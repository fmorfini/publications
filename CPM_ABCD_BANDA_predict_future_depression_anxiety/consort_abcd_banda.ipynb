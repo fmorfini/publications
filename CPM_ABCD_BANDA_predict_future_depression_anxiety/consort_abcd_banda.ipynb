{
 "cells": [
  {
   "cell_type": "markdown",
   "id": "53d58436-deba-4842-b661-3880fa0a4f67",
   "metadata": {},
   "source": [
    "# Generate sample size for CONSORT figures\n",
    "- ABCD\n",
    "- BANDA\n",
    "- also outputs list of final ids that were included in both datasets "
   ]
  },
  {
   "cell_type": "code",
   "execution_count": 1,
   "id": "e8d1c406-0090-475f-aa8c-20105dbd86da",
   "metadata": {},
   "outputs": [],
   "source": [
    "import pandas as pd"
   ]
  },
  {
   "cell_type": "code",
   "execution_count": 2,
   "id": "dd1295cb-941b-41e7-b1b2-66b76a34a1d8",
   "metadata": {},
   "outputs": [],
   "source": [
    "main_dir = '/projects/swglab/data/BANDA_U01/analysis/proj_franci_anxiety'"
   ]
  },
  {
   "cell_type": "markdown",
   "id": "401bf44c-2d0f-48ab-84ae-ae878fa973e4",
   "metadata": {},
   "source": [
    "# ABCD\n",
    "considering ids as the dynamic list of included subject"
   ]
  },
  {
   "cell_type": "markdown",
   "id": "c303a57e-b41c-46b4-acfb-8f21ba5a33e4",
   "metadata": {},
   "source": [
    "grab ids of those that have some fmridata (belowthresh)"
   ]
  },
  {
   "cell_type": "code",
   "execution_count": 3,
   "id": "6d9ec412-9328-43ac-a897-abf3a59c2790",
   "metadata": {},
   "outputs": [
    {
     "data": {
      "text/plain": [
       "9404"
      ]
     },
     "execution_count": 3,
     "metadata": {},
     "output_type": "execute_result"
    }
   ],
   "source": [
    "pconn_ids = pd.read_csv(f'{main_dir}/cpm/abcd_dcan/belowthresh/connectomes/pconn_ids.csv', sep=',')\n",
    "mri_ids = pconn_ids['participant_id'].to_list()\n",
    "mri_ids = ['sub-' + x for x in mri_ids]\n",
    "len(mri_ids)"
   ]
  },
  {
   "cell_type": "markdown",
   "id": "56d0c2e0-ee37-4a47-bb86-05bb579c836d",
   "metadata": {},
   "source": [
    "cbcl"
   ]
  },
  {
   "cell_type": "code",
   "execution_count": 4,
   "id": "bd79926e-a21e-487b-8800-6c8fc69e5aae",
   "metadata": {},
   "outputs": [
    {
     "data": {
      "text/plain": [
       "9404"
      ]
     },
     "execution_count": 4,
     "metadata": {},
     "output_type": "execute_result"
    }
   ],
   "source": [
    "cbcl = pd.read_csv(f'{main_dir}/behave_inputs/abcd_dcan/abcd_dcan_allsubjs_belowthresh.csv', sep = \",\")\n",
    "cbcl = cbcl.set_index('participant_id')\n",
    "len(cbcl)"
   ]
  },
  {
   "cell_type": "markdown",
   "id": "eeab9640-0ce1-4443-916d-45235233322c",
   "metadata": {},
   "source": [
    "drop ids"
   ]
  },
  {
   "cell_type": "code",
   "execution_count": 5,
   "id": "8209e81e-4dea-4ccf-bee5-65348eafa9eb",
   "metadata": {},
   "outputs": [
    {
     "data": {
      "text/plain": [
       "9403"
      ]
     },
     "execution_count": 5,
     "metadata": {},
     "output_type": "execute_result"
    }
   ],
   "source": [
    "ids = mri_ids.copy()\n",
    "dropids=['sub-NDARINVP2G0PXCM'] #is in Collection 3165 but miss all info from ABCD. in CONSORT figure count towards: missing cbcl base\n",
    "\n",
    "for i in dropids:\n",
    "    ids.remove(i)\n",
    "\n",
    "len(ids)"
   ]
  },
  {
   "cell_type": "code",
   "execution_count": 6,
   "id": "dae8887d-e680-43ff-b4ff-20883d2c50ea",
   "metadata": {},
   "outputs": [
    {
     "name": "stdout",
     "output_type": "stream",
     "text": [
      "9403\n"
     ]
    }
   ],
   "source": [
    "cbcl = cbcl.loc[ids]\n",
    "print(len(cbcl))"
   ]
  },
  {
   "cell_type": "markdown",
   "id": "a8acbe12-c2f0-4007-af69-9c55d28039d0",
   "metadata": {},
   "source": [
    "cbcl"
   ]
  },
  {
   "cell_type": "code",
   "execution_count": 7,
   "id": "0f2c4209-79b6-497a-9dac-0ba45a194619",
   "metadata": {},
   "outputs": [
    {
     "name": "stdout",
     "output_type": "stream",
     "text": [
      "9403\n"
     ]
    }
   ],
   "source": [
    "cbcl = pd.read_csv(f'{main_dir}/behave_inputs/abcd_dcan/abcd_dcan_allsubjs_belowthresh.csv', sep = \",\")\n",
    "cbcl = cbcl.set_index('participant_id')\n",
    "cbcl = cbcl.loc[ids]\n",
    "\n",
    "print(len(cbcl))"
   ]
  },
  {
   "cell_type": "code",
   "execution_count": 8,
   "id": "39a67b78-7065-4b1b-8bba-e395161dda99",
   "metadata": {},
   "outputs": [
    {
     "name": "stdout",
     "output_type": "stream",
     "text": [
      "9400\n"
     ]
    }
   ],
   "source": [
    "#consort cbcl baseline\n",
    "newid = cbcl[cbcl['cbcl_scr_syn_anxdep_t_bl'].notna()].index \n",
    "cbcl = cbcl.loc[newid]\n",
    "print(len(cbcl))"
   ]
  },
  {
   "cell_type": "code",
   "execution_count": 9,
   "id": "2d7a2693-42d7-4fac-b8cd-f4ef9ca5e367",
   "metadata": {},
   "outputs": [
    {
     "data": {
      "text/plain": [
       "8889"
      ]
     },
     "execution_count": 9,
     "metadata": {},
     "output_type": "execute_result"
    }
   ],
   "source": [
    "#consort cbcl 1 year followup\n",
    "newid = cbcl[cbcl['cbcl_scr_syn_anxdep_t_y1'].notna()].index \n",
    "cbcl = cbcl.loc[newid]\n",
    "len(cbcl)"
   ]
  },
  {
   "cell_type": "code",
   "execution_count": 10,
   "id": "f2630b19-abaa-478c-9dda-7357029e414f",
   "metadata": {},
   "outputs": [
    {
     "data": {
      "text/plain": [
       "8889"
      ]
     },
     "execution_count": 10,
     "metadata": {},
     "output_type": "execute_result"
    }
   ],
   "source": [
    "ids = newid.copy().to_list()\n",
    "len(ids)"
   ]
  },
  {
   "cell_type": "markdown",
   "id": "fee31bf6-56b6-4344-adf2-7dcd94bc5d97",
   "metadata": {},
   "source": [
    "grab info about site"
   ]
  },
  {
   "cell_type": "code",
   "execution_count": 11,
   "id": "39e61ab1-02cc-430f-9148-167d7f8011d7",
   "metadata": {},
   "outputs": [
    {
     "data": {
      "text/plain": [
       "(8889, 15)"
      ]
     },
     "execution_count": 11,
     "metadata": {},
     "output_type": "execute_result"
    }
   ],
   "source": [
    "site = pd.read_csv(f'{main_dir}/data/abcd/ABCDStudyNDA/abcd_lt01.txt', sep = \"\\t\", skiprows=[1])\n",
    "site['participant_id'] = site['src_subject_id'].str.replace('_','').str.replace('NDAR','sub-NDAR')\n",
    "site = site.set_index('participant_id')\n",
    "site['site']=site['site_id_l']\n",
    "site = site[site['eventname'] == 'baseline_year_1_arm_1']\n",
    "site = site.loc[ids]\n",
    "\n",
    "site[site['site'].notna()].shape"
   ]
  },
  {
   "cell_type": "markdown",
   "id": "22cd11ae-d5cb-47e9-82bb-fb4cfc97c6e1",
   "metadata": {},
   "source": [
    "family"
   ]
  },
  {
   "cell_type": "code",
   "execution_count": 12,
   "id": "2582fbbc-4b78-4093-b1e5-6e79b2cb95a6",
   "metadata": {},
   "outputs": [
    {
     "data": {
      "text/plain": [
       "8889"
      ]
     },
     "execution_count": 12,
     "metadata": {},
     "output_type": "execute_result"
    }
   ],
   "source": [
    "fam = pd.read_csv(f'{main_dir}/data/abcd/ABCDStudyNDA/acspsw03.txt', sep = \"\\t\", skiprows=[1])\n",
    "fam['participant_id'] = fam['src_subject_id'].str.replace('_','').str.replace('NDAR','sub-NDAR')\n",
    "fam = fam.set_index('participant_id')\n",
    "fam = fam[fam['eventname'] == 'baseline_year_1_arm_1']\n",
    "fam = fam.loc[ids]\n",
    "\n",
    "len(fam[fam['rel_family_id'].notna()])"
   ]
  },
  {
   "cell_type": "markdown",
   "id": "a097632e-2374-4297-bdc5-a557f068b2ee",
   "metadata": {},
   "source": [
    "check if among all non-only child\n",
    "site is different based on rel_family_id "
   ]
  },
  {
   "cell_type": "code",
   "execution_count": 13,
   "id": "bf8c7f56-1d21-4854-b69e-acbbb52a24e3",
   "metadata": {},
   "outputs": [
    {
     "data": {
      "text/html": [
       "<div>\n",
       "<style scoped>\n",
       "    .dataframe tbody tr th:only-of-type {\n",
       "        vertical-align: middle;\n",
       "    }\n",
       "\n",
       "    .dataframe tbody tr th {\n",
       "        vertical-align: top;\n",
       "    }\n",
       "\n",
       "    .dataframe thead th {\n",
       "        text-align: right;\n",
       "    }\n",
       "</style>\n",
       "<table border=\"1\" class=\"dataframe\">\n",
       "  <thead>\n",
       "    <tr style=\"text-align: right;\">\n",
       "      <th>site</th>\n",
       "      <th>site01</th>\n",
       "      <th>site02</th>\n",
       "      <th>site03</th>\n",
       "      <th>site04</th>\n",
       "      <th>site05</th>\n",
       "      <th>site06</th>\n",
       "      <th>site07</th>\n",
       "      <th>site08</th>\n",
       "      <th>site09</th>\n",
       "      <th>site10</th>\n",
       "      <th>...</th>\n",
       "      <th>site14</th>\n",
       "      <th>site15</th>\n",
       "      <th>site16</th>\n",
       "      <th>site17</th>\n",
       "      <th>site18</th>\n",
       "      <th>site19</th>\n",
       "      <th>site20</th>\n",
       "      <th>site21</th>\n",
       "      <th>site22</th>\n",
       "      <th>nonzero</th>\n",
       "    </tr>\n",
       "    <tr>\n",
       "      <th>rel_family_id</th>\n",
       "      <th></th>\n",
       "      <th></th>\n",
       "      <th></th>\n",
       "      <th></th>\n",
       "      <th></th>\n",
       "      <th></th>\n",
       "      <th></th>\n",
       "      <th></th>\n",
       "      <th></th>\n",
       "      <th></th>\n",
       "      <th></th>\n",
       "      <th></th>\n",
       "      <th></th>\n",
       "      <th></th>\n",
       "      <th></th>\n",
       "      <th></th>\n",
       "      <th></th>\n",
       "      <th></th>\n",
       "      <th></th>\n",
       "      <th></th>\n",
       "      <th></th>\n",
       "    </tr>\n",
       "  </thead>\n",
       "  <tbody>\n",
       "    <tr>\n",
       "      <th>3764.0</th>\n",
       "      <td>0</td>\n",
       "      <td>0</td>\n",
       "      <td>0</td>\n",
       "      <td>0</td>\n",
       "      <td>0</td>\n",
       "      <td>0</td>\n",
       "      <td>0</td>\n",
       "      <td>0</td>\n",
       "      <td>0</td>\n",
       "      <td>0</td>\n",
       "      <td>...</td>\n",
       "      <td>1</td>\n",
       "      <td>0</td>\n",
       "      <td>1</td>\n",
       "      <td>0</td>\n",
       "      <td>0</td>\n",
       "      <td>0</td>\n",
       "      <td>0</td>\n",
       "      <td>0</td>\n",
       "      <td>0</td>\n",
       "      <td>2</td>\n",
       "    </tr>\n",
       "    <tr>\n",
       "      <th>6880.0</th>\n",
       "      <td>0</td>\n",
       "      <td>0</td>\n",
       "      <td>0</td>\n",
       "      <td>0</td>\n",
       "      <td>0</td>\n",
       "      <td>1</td>\n",
       "      <td>0</td>\n",
       "      <td>1</td>\n",
       "      <td>0</td>\n",
       "      <td>0</td>\n",
       "      <td>...</td>\n",
       "      <td>0</td>\n",
       "      <td>0</td>\n",
       "      <td>0</td>\n",
       "      <td>0</td>\n",
       "      <td>0</td>\n",
       "      <td>0</td>\n",
       "      <td>0</td>\n",
       "      <td>0</td>\n",
       "      <td>0</td>\n",
       "      <td>2</td>\n",
       "    </tr>\n",
       "    <tr>\n",
       "      <th>6887.0</th>\n",
       "      <td>0</td>\n",
       "      <td>0</td>\n",
       "      <td>0</td>\n",
       "      <td>0</td>\n",
       "      <td>0</td>\n",
       "      <td>0</td>\n",
       "      <td>0</td>\n",
       "      <td>1</td>\n",
       "      <td>0</td>\n",
       "      <td>0</td>\n",
       "      <td>...</td>\n",
       "      <td>0</td>\n",
       "      <td>0</td>\n",
       "      <td>0</td>\n",
       "      <td>0</td>\n",
       "      <td>0</td>\n",
       "      <td>0</td>\n",
       "      <td>1</td>\n",
       "      <td>0</td>\n",
       "      <td>0</td>\n",
       "      <td>2</td>\n",
       "    </tr>\n",
       "    <tr>\n",
       "      <th>9942.0</th>\n",
       "      <td>0</td>\n",
       "      <td>0</td>\n",
       "      <td>0</td>\n",
       "      <td>0</td>\n",
       "      <td>0</td>\n",
       "      <td>0</td>\n",
       "      <td>0</td>\n",
       "      <td>0</td>\n",
       "      <td>0</td>\n",
       "      <td>0</td>\n",
       "      <td>...</td>\n",
       "      <td>0</td>\n",
       "      <td>0</td>\n",
       "      <td>0</td>\n",
       "      <td>0</td>\n",
       "      <td>0</td>\n",
       "      <td>0</td>\n",
       "      <td>0</td>\n",
       "      <td>1</td>\n",
       "      <td>1</td>\n",
       "      <td>2</td>\n",
       "    </tr>\n",
       "    <tr>\n",
       "      <th>11619.0</th>\n",
       "      <td>0</td>\n",
       "      <td>1</td>\n",
       "      <td>0</td>\n",
       "      <td>0</td>\n",
       "      <td>0</td>\n",
       "      <td>0</td>\n",
       "      <td>0</td>\n",
       "      <td>0</td>\n",
       "      <td>0</td>\n",
       "      <td>0</td>\n",
       "      <td>...</td>\n",
       "      <td>0</td>\n",
       "      <td>0</td>\n",
       "      <td>0</td>\n",
       "      <td>1</td>\n",
       "      <td>0</td>\n",
       "      <td>0</td>\n",
       "      <td>0</td>\n",
       "      <td>0</td>\n",
       "      <td>0</td>\n",
       "      <td>2</td>\n",
       "    </tr>\n",
       "  </tbody>\n",
       "</table>\n",
       "<p>5 rows × 23 columns</p>\n",
       "</div>"
      ],
      "text/plain": [
       "site           site01  site02  site03  site04  site05  site06  site07  site08  \\\n",
       "rel_family_id                                                                   \n",
       "3764.0              0       0       0       0       0       0       0       0   \n",
       "6880.0              0       0       0       0       0       1       0       1   \n",
       "6887.0              0       0       0       0       0       0       0       1   \n",
       "9942.0              0       0       0       0       0       0       0       0   \n",
       "11619.0             0       1       0       0       0       0       0       0   \n",
       "\n",
       "site           site09  site10  ...  site14  site15  site16  site17  site18  \\\n",
       "rel_family_id                  ...                                           \n",
       "3764.0              0       0  ...       1       0       1       0       0   \n",
       "6880.0              0       0  ...       0       0       0       0       0   \n",
       "6887.0              0       0  ...       0       0       0       0       0   \n",
       "9942.0              0       0  ...       0       0       0       0       0   \n",
       "11619.0             0       0  ...       0       0       0       1       0   \n",
       "\n",
       "site           site19  site20  site21  site22  nonzero  \n",
       "rel_family_id                                           \n",
       "3764.0              0       0       0       0        2  \n",
       "6880.0              0       0       0       0        2  \n",
       "6887.0              0       1       0       0        2  \n",
       "9942.0              0       0       1       1        2  \n",
       "11619.0             0       0       0       0        2  \n",
       "\n",
       "[5 rows x 23 columns]"
      ]
     },
     "execution_count": 13,
     "metadata": {},
     "output_type": "execute_result"
    }
   ],
   "source": [
    "df = pd.merge(fam, site, on='participant_id')\n",
    "tmp = pd.crosstab(df['rel_family_id'], df['site']) # cross tab of where each family was scanned. this is 1s and 0s\n",
    "tmp['nonzero'] = tmp.astype(bool).sum(axis=1) # generating sum by row = by familyid\n",
    "tmp = tmp[tmp['nonzero']!=1] # if the sum is different from 1 then at least one family member of the same family was scanned at two sites\n",
    "tmp #these are the families for which sibling/twin were scanned at different sites"
   ]
  },
  {
   "cell_type": "code",
   "execution_count": 14,
   "id": "712d5cd5-d704-4f75-82c2-18abb804cbdd",
   "metadata": {},
   "outputs": [
    {
     "data": {
      "text/plain": [
       "5"
      ]
     },
     "execution_count": 14,
     "metadata": {},
     "output_type": "execute_result"
    }
   ],
   "source": [
    "len(tmp) # this is how many families had at least one memeber that was scanned at another site"
   ]
  },
  {
   "cell_type": "code",
   "execution_count": 15,
   "id": "93509353-9be2-4016-b1c0-d860021e4c48",
   "metadata": {},
   "outputs": [
    {
     "name": "stdout",
     "output_type": "stream",
     "text": [
      "                     rel_family_id    site\n",
      "participant_id                            \n",
      "sub-NDARINVB3CU3GHK         3764.0  site16\n",
      "sub-NDARINVXLFHB010         3764.0  site14\n",
      "\n",
      "\n",
      "                     rel_family_id    site\n",
      "participant_id                            \n",
      "sub-NDARINVG19M2F39         6880.0  site08\n",
      "sub-NDARINVZRABEXLZ         6880.0  site06\n",
      "\n",
      "\n",
      "                     rel_family_id    site\n",
      "participant_id                            \n",
      "sub-NDARINVGVPPRTDN         6887.0  site08\n",
      "sub-NDARINVVH9GWJVF         6887.0  site20\n",
      "\n",
      "\n",
      "                     rel_family_id    site\n",
      "participant_id                            \n",
      "sub-NDARINVC2ZLETPN         9942.0  site21\n",
      "sub-NDARINVZZL0VA2F         9942.0  site22\n",
      "\n",
      "\n",
      "                     rel_family_id    site\n",
      "participant_id                            \n",
      "sub-NDARINVDJDNYY46        11619.0  site17\n",
      "sub-NDARINVGFCRX7YW        11619.0  site02\n",
      "\n",
      "\n"
     ]
    }
   ],
   "source": [
    "# explore\n",
    "#gives back the site corresponding to the family memeber of tmp.index[0] which is eg 3764.0\n",
    "for i in tmp.index:\n",
    "    print(df[['rel_family_id','site']][df['rel_family_id'] == i])\n",
    "    print('\\n')"
   ]
  },
  {
   "cell_type": "code",
   "execution_count": 16,
   "id": "9cda7ed6-6063-4607-a3c9-e9509bdc2154",
   "metadata": {},
   "outputs": [],
   "source": [
    "# df[df['rel_family_id'].isin(tmp.index)][['site','rel_relationship','rel_family_id','scanner_manufacturer', 'scanner_model', 'scanner_software','cbcl_scr_syn_anxdep_r_bl','cbcl_scr_syn_anxdep_r_y1','sex','interview_age_bl']].sort_values(by='rel_family_id')"
   ]
  },
  {
   "cell_type": "code",
   "execution_count": 17,
   "id": "65237835-74a3-4b6f-9ba0-246c3a1b9ce4",
   "metadata": {},
   "outputs": [
    {
     "name": "stdout",
     "output_type": "stream",
     "text": [
      "(8889, 49)\n"
     ]
    },
    {
     "data": {
      "text/plain": [
       "site\n",
       "site16    915\n",
       "site20    593\n",
       "site04    577\n",
       "site14    545\n",
       "site03    517\n",
       "site06    509\n",
       "site02    488\n",
       "site21    481\n",
       "site17    475\n",
       "site13    458\n",
       "site19    450\n",
       "site10    449\n",
       "site09    368\n",
       "site15    359\n",
       "site11    358\n",
       "site05    318\n",
       "site07    267\n",
       "site18    257\n",
       "site08    246\n",
       "site12    147\n",
       "site01     95\n",
       "site22     17\n",
       "Name: count, dtype: int64"
      ]
     },
     "execution_count": 17,
     "metadata": {},
     "output_type": "execute_result"
    }
   ],
   "source": [
    "print(df.shape)\n",
    "df['site'].value_counts()"
   ]
  },
  {
   "cell_type": "code",
   "execution_count": 18,
   "id": "2b31f656-f9aa-4365-a338-4f2ee32c3707",
   "metadata": {},
   "outputs": [
    {
     "data": {
      "text/plain": [
       "8884"
      ]
     },
     "execution_count": 18,
     "metadata": {},
     "output_type": "execute_result"
    }
   ],
   "source": [
    "# drop ids of one of the two family members, the one from the site that has a bigger sample size\n",
    "dropids=['sub-NDARINVB3CU3GHK',   'sub-NDARINVZRABEXLZ',   'sub-NDARINVVH9GWJVF',   'sub-NDARINVC2ZLETPN',   'sub-NDARINVGFCRX7YW']\n",
    "\n",
    "for i in dropids:\n",
    "    ids.remove(i)\n",
    "len(ids)"
   ]
  },
  {
   "cell_type": "markdown",
   "id": "113df6fa-81d3-4cee-94f4-b736a6918457",
   "metadata": {},
   "source": [
    "mean motion > 0.25"
   ]
  },
  {
   "cell_type": "code",
   "execution_count": 19,
   "id": "752bc088-0d75-43bc-8aa8-a317c876ba8f",
   "metadata": {},
   "outputs": [
    {
     "data": {
      "text/plain": [
       "4111"
      ]
     },
     "execution_count": 19,
     "metadata": {},
     "output_type": "execute_result"
    }
   ],
   "source": [
    "#consort cbcl baseline\n",
    "newid = cbcl[cbcl['meanFDj'] < 0.25].index \n",
    "cbcl = cbcl.loc[newid]\n",
    "ids = newid.copy().to_list()\n",
    "len(ids)"
   ]
  },
  {
   "cell_type": "code",
   "execution_count": 20,
   "id": "83107d24-e428-4f24-a64d-9964e9a686ab",
   "metadata": {},
   "outputs": [
    {
     "data": {
      "text/plain": [
       "4773"
      ]
     },
     "execution_count": 20,
     "metadata": {},
     "output_type": "execute_result"
    }
   ],
   "source": [
    "8884 - 4111"
   ]
  },
  {
   "cell_type": "markdown",
   "id": "09ebcc7f-9bc7-41bc-b748-f9ea0f7334aa",
   "metadata": {},
   "source": [
    "at least 10min of good quality data"
   ]
  },
  {
   "cell_type": "code",
   "execution_count": 21,
   "id": "b81b75ee-f640-4d65-9dce-1fd40fa78ebe",
   "metadata": {},
   "outputs": [
    {
     "data": {
      "text/plain": [
       "5955"
      ]
     },
     "execution_count": 21,
     "metadata": {},
     "output_type": "execute_result"
    }
   ],
   "source": [
    "pconn_ids = pd.read_csv(f'{main_dir}/cpm/abcd_dcan/10min/connectomes/pconn_ids.csv', sep=',')\n",
    "grab10min = pconn_ids['participant_id'].to_list()\n",
    "grab10min = ['sub-' + x for x in grab10min]\n",
    "original_order = grab10min\n",
    "len(grab10min)"
   ]
  },
  {
   "cell_type": "code",
   "execution_count": 22,
   "id": "7c61f21f-d7eb-439f-83d7-cf1dfa1b3a25",
   "metadata": {},
   "outputs": [
    {
     "data": {
      "text/plain": [
       "3721"
      ]
     },
     "execution_count": 22,
     "metadata": {},
     "output_type": "execute_result"
    }
   ],
   "source": [
    "filtered_indices = cbcl.index.intersection(grab10min)\n",
    "final = cbcl.loc[filtered_indices]\n",
    "ids = final.index.to_list()\n",
    "len(ids)"
   ]
  },
  {
   "cell_type": "markdown",
   "id": "8cab4c7f-621d-4599-a950-57fe895364bd",
   "metadata": {},
   "source": [
    "have to remove these ids because they got pulled back in from the pconn_ids"
   ]
  },
  {
   "cell_type": "code",
   "execution_count": 23,
   "id": "8724c549-90d1-4a9f-ac38-a2e469b0b3b6",
   "metadata": {},
   "outputs": [
    {
     "name": "stdout",
     "output_type": "stream",
     "text": [
      "removing sub-NDARINVB3CU3GHK\n",
      "removing sub-NDARINVC2ZLETPN\n",
      "removing sub-NDARINVGFCRX7YW\n"
     ]
    },
    {
     "data": {
      "text/plain": [
       "3718"
      ]
     },
     "execution_count": 23,
     "metadata": {},
     "output_type": "execute_result"
    }
   ],
   "source": [
    "# drop ids of one of the two family members, the one from the site that has a bigger sample size\n",
    "dropids=['sub-NDARINVB3CU3GHK', #family   \n",
    "         'sub-NDARINVZRABEXLZ', #family   \n",
    "         'sub-NDARINVVH9GWJVF', #family   \n",
    "         'sub-NDARINVC2ZLETPN', #family   \n",
    "         'sub-NDARINVGFCRX7YW', #family   \n",
    "         'sub-NDARINVP2G0PXCM', #is in Collection 3165 but miss all info from ABCD. in CONSORT figure count towards: missing cbcl base  \n",
    "        ] \n",
    "\n",
    "# Check if elements of list1 are in list2\n",
    "for i in dropids:\n",
    "    if i in ids:  \n",
    "        print(f\"removing {i}\")  \n",
    "        ids.remove(i)\n",
    "len(ids)"
   ]
  },
  {
   "cell_type": "markdown",
   "id": "943cc026-9adc-4ad2-9fd9-b5e9dda8509f",
   "metadata": {},
   "source": [
    "get all behave data"
   ]
  },
  {
   "cell_type": "code",
   "execution_count": 1,
   "id": "b5893b33-47b9-4b49-b42e-6063f86d492b",
   "metadata": {},
   "outputs": [
    {
     "ename": "NameError",
     "evalue": "name 'pd' is not defined",
     "output_type": "error",
     "traceback": [
      "\u001b[0;31m---------------------------------------------------------------------------\u001b[0m",
      "\u001b[0;31mNameError\u001b[0m                                 Traceback (most recent call last)",
      "Cell \u001b[0;32mIn[1], line 1\u001b[0m\n\u001b[0;32m----> 1\u001b[0m used \u001b[38;5;241m=\u001b[39m pd\u001b[38;5;241m.\u001b[39mread_csv(\u001b[38;5;124mf\u001b[39m\u001b[38;5;124m'\u001b[39m\u001b[38;5;132;01m{\u001b[39;00mmain_dir\u001b[38;5;132;01m}\u001b[39;00m\u001b[38;5;124m/behave_inputs/abcd_dcan/abcd_dcan_allsubjs_10min.csv\u001b[39m\u001b[38;5;124m'\u001b[39m, sep \u001b[38;5;241m=\u001b[39m \u001b[38;5;124m\"\u001b[39m\u001b[38;5;124m,\u001b[39m\u001b[38;5;124m\"\u001b[39m)\n\u001b[1;32m      2\u001b[0m used \u001b[38;5;241m=\u001b[39m used\u001b[38;5;241m.\u001b[39mset_index(\u001b[38;5;124m'\u001b[39m\u001b[38;5;124mparticipant_id\u001b[39m\u001b[38;5;124m'\u001b[39m)\n\u001b[1;32m      3\u001b[0m used \u001b[38;5;241m=\u001b[39m used\u001b[38;5;241m.\u001b[39mloc[ids]\n",
      "\u001b[0;31mNameError\u001b[0m: name 'pd' is not defined"
     ]
    }
   ],
   "source": [
    "used = pd.read_csv(f'{main_dir}/behave_inputs/abcd_dcan/abcd_dcan_allsubjs_10min.csv', sep = \",\")\n",
    "used = used.set_index('participant_id')\n",
    "used = used.loc[ids]\n",
    "used"
   ]
  },
  {
   "cell_type": "markdown",
   "id": "96df08af-331d-4434-91b2-983316017e59",
   "metadata": {},
   "source": [
    "# Grab other info for demographic table"
   ]
  },
  {
   "cell_type": "code",
   "execution_count": 25,
   "id": "77b5997b-b7ab-477b-868b-ba778d808758",
   "metadata": {},
   "outputs": [
    {
     "data": {
      "text/html": [
       "<div>\n",
       "<style scoped>\n",
       "    .dataframe tbody tr th:only-of-type {\n",
       "        vertical-align: middle;\n",
       "    }\n",
       "\n",
       "    .dataframe tbody tr th {\n",
       "        vertical-align: top;\n",
       "    }\n",
       "\n",
       "    .dataframe thead th {\n",
       "        text-align: right;\n",
       "    }\n",
       "</style>\n",
       "<table border=\"1\" class=\"dataframe\">\n",
       "  <thead>\n",
       "    <tr style=\"text-align: right;\">\n",
       "      <th></th>\n",
       "      <th>collection_id</th>\n",
       "      <th>pdem02_id</th>\n",
       "      <th>dataset_id</th>\n",
       "      <th>subjectkey</th>\n",
       "      <th>src_subject_id</th>\n",
       "      <th>interview_date</th>\n",
       "      <th>interview_age</th>\n",
       "      <th>sex</th>\n",
       "      <th>demoi_p_select_language___1</th>\n",
       "      <th>demo_prim</th>\n",
       "      <th>...</th>\n",
       "      <th>demo_yrs_1</th>\n",
       "      <th>demo_yrs_2</th>\n",
       "      <th>eventname</th>\n",
       "      <th>demo_yrs_2a_2</th>\n",
       "      <th>demo_yrs_2b_2</th>\n",
       "      <th>demo_yrs_2_no_display___1</th>\n",
       "      <th>demo_race_a_p___0</th>\n",
       "      <th>demo_yrs_2_2</th>\n",
       "      <th>collection_title</th>\n",
       "      <th>study_cohort_name</th>\n",
       "    </tr>\n",
       "    <tr>\n",
       "      <th>participant_id</th>\n",
       "      <th></th>\n",
       "      <th></th>\n",
       "      <th></th>\n",
       "      <th></th>\n",
       "      <th></th>\n",
       "      <th></th>\n",
       "      <th></th>\n",
       "      <th></th>\n",
       "      <th></th>\n",
       "      <th></th>\n",
       "      <th></th>\n",
       "      <th></th>\n",
       "      <th></th>\n",
       "      <th></th>\n",
       "      <th></th>\n",
       "      <th></th>\n",
       "      <th></th>\n",
       "      <th></th>\n",
       "      <th></th>\n",
       "      <th></th>\n",
       "      <th></th>\n",
       "    </tr>\n",
       "  </thead>\n",
       "  <tbody>\n",
       "    <tr>\n",
       "      <th>sub-NDARINV00LH735Y</th>\n",
       "      <td>2573</td>\n",
       "      <td>28284</td>\n",
       "      <td>47381</td>\n",
       "      <td>NDAR_INV00LH735Y</td>\n",
       "      <td>NDAR_INV00LH735Y</td>\n",
       "      <td>01/29/2018</td>\n",
       "      <td>109</td>\n",
       "      <td>M</td>\n",
       "      <td>NaN</td>\n",
       "      <td>1</td>\n",
       "      <td>...</td>\n",
       "      <td>3.0</td>\n",
       "      <td>4.0</td>\n",
       "      <td>baseline_year_1_arm_1</td>\n",
       "      <td>NaN</td>\n",
       "      <td>NaN</td>\n",
       "      <td>1</td>\n",
       "      <td>0</td>\n",
       "      <td>NaN</td>\n",
       "      <td>Adolescent Brain Cognitive Development Study (...</td>\n",
       "      <td>ABCD 4.0 Data Release</td>\n",
       "    </tr>\n",
       "  </tbody>\n",
       "</table>\n",
       "<p>1 rows × 135 columns</p>\n",
       "</div>"
      ],
      "text/plain": [
       "                     collection_id  pdem02_id  dataset_id        subjectkey  \\\n",
       "participant_id                                                                \n",
       "sub-NDARINV00LH735Y           2573      28284       47381  NDAR_INV00LH735Y   \n",
       "\n",
       "                       src_subject_id interview_date  interview_age sex  \\\n",
       "participant_id                                                            \n",
       "sub-NDARINV00LH735Y  NDAR_INV00LH735Y     01/29/2018            109   M   \n",
       "\n",
       "                     demoi_p_select_language___1  demo_prim  ...  demo_yrs_1  \\\n",
       "participant_id                                               ...               \n",
       "sub-NDARINV00LH735Y                          NaN          1  ...         3.0   \n",
       "\n",
       "                     demo_yrs_2              eventname  demo_yrs_2a_2  \\\n",
       "participant_id                                                          \n",
       "sub-NDARINV00LH735Y         4.0  baseline_year_1_arm_1            NaN   \n",
       "\n",
       "                     demo_yrs_2b_2  demo_yrs_2_no_display___1  \\\n",
       "participant_id                                                  \n",
       "sub-NDARINV00LH735Y            NaN                          1   \n",
       "\n",
       "                     demo_race_a_p___0  demo_yrs_2_2  \\\n",
       "participant_id                                         \n",
       "sub-NDARINV00LH735Y                  0           NaN   \n",
       "\n",
       "                                                      collection_title  \\\n",
       "participant_id                                                           \n",
       "sub-NDARINV00LH735Y  Adolescent Brain Cognitive Development Study (...   \n",
       "\n",
       "                         study_cohort_name  \n",
       "participant_id                              \n",
       "sub-NDARINV00LH735Y  ABCD 4.0 Data Release  \n",
       "\n",
       "[1 rows x 135 columns]"
      ]
     },
     "execution_count": 25,
     "metadata": {},
     "output_type": "execute_result"
    }
   ],
   "source": [
    "demo = pd.read_csv(f'{main_dir}/data/abcd/ABCDStudyNDA/pdem02.txt', sep = \"\\t\", skiprows=[1])\n",
    "demo['participant_id'] = demo['src_subject_id'].str.replace('_','').str.replace('NDAR','sub-NDAR')\n",
    "demo = demo.set_index('participant_id')\n",
    "demo.head(1)"
   ]
  },
  {
   "cell_type": "markdown",
   "id": "2fb2c563-00a8-44d5-8ea9-2616e9eab977",
   "metadata": {},
   "source": [
    "## remap some questions\n",
    "### https://nda.nih.gov/data-structure/pdem02"
   ]
  },
  {
   "cell_type": "markdown",
   "id": "93e20559-120b-49ce-aafd-845d27235918",
   "metadata": {},
   "source": [
    "- demo_race_a_p___xxxx What race do you consider the child to be? Please check all that apply. ¿De qué raza considera que es el/la niño(a)? Seleccione 1 o más de estas categorías"
   ]
  },
  {
   "cell_type": "code",
   "execution_count": 26,
   "id": "4f4f925d-d172-4375-b9bc-df6b52338538",
   "metadata": {},
   "outputs": [],
   "source": [
    "race_dict = {'10':'White',\n",
    "             '11':'Black_African_American',\n",
    "             '12':'American_Indian_Native_American',\n",
    "             '13':'Alaska_Native',\n",
    "             '14':'Native_Hawaiian',\n",
    "             '15':'Guamanian',\n",
    "             '16':'Samoan',\n",
    "             '17':'Other_Pacific_Islander',\n",
    "             '18':'Asian_Indian',\n",
    "             '19':'Chinese',\n",
    "             '20':'Filipino',\n",
    "             '21':'Japanese',\n",
    "             '22':'Korean',\n",
    "             '23':'Vietnamese',\n",
    "             '24':'Other_Asian',\n",
    "             '25':'Other_Race',\n",
    "             '77':'Refuse_Answer',\n",
    "             '99':'Dont_Know'\n",
    "            }\n",
    "\n",
    "# Function to rename columns based on the race_dict\n",
    "def rename_columns(col):\n",
    "    if 'demo_race_a_p___' in col:  # Only apply renaming to columns that contain this pattern\n",
    "        for key, value in race_dict.items():\n",
    "            if key in col:\n",
    "                return col.replace(key, value)\n",
    "    return col\n",
    "\n",
    "# Rename columns selectively\n",
    "demo.columns = [rename_columns(col) for col in demo.columns]"
   ]
  },
  {
   "cell_type": "markdown",
   "id": "7ef6cf13-69d3-458b-a8b3-781a30501046",
   "metadata": {},
   "source": [
    "- demo_ethn_v2\tInteger\tRecommended\tDo you consider the child Hispanic/Latino/Latina? ¿Considera que el/la niño(a) es hispano(a) o latino(a)?\t1 ; 2 ; 777 ; 999\t1 = Yes SÃ­; 2 = No No; 777 = Refuse to answer Niego contestar; 999 = Don't know No lo sÃ©"
   ]
  },
  {
   "cell_type": "code",
   "execution_count": 27,
   "id": "06c1ebd3-1aea-4188-89df-5b3b7d308b50",
   "metadata": {},
   "outputs": [
    {
     "data": {
      "text/plain": [
       "array([  1.,   2., 999., 777.,  nan])"
      ]
     },
     "execution_count": 27,
     "metadata": {},
     "output_type": "execute_result"
    }
   ],
   "source": [
    "demo['demo_ethn_v2'].unique()"
   ]
  },
  {
   "cell_type": "code",
   "execution_count": 28,
   "id": "0c5b2343-2344-4971-b7c3-13150811048d",
   "metadata": {},
   "outputs": [],
   "source": [
    "ethnic_latino_dict = {\n",
    "    1.0: 'yes',\n",
    "    2.0: 'no',\n",
    "    999.0: 'dont know',\n",
    "    777.0: 'refuse to answer'\n",
    "}\n",
    "\n",
    "# Replace values in 'column_name' using the mapping dictionary\n",
    "demo['ethnic_group_latino'] = demo['demo_ethn_v2'].replace(ethnic_latino_dict)"
   ]
  },
  {
   "cell_type": "markdown",
   "id": "9ec1b7aa-75d9-4c90-bde4-60b0055654b1",
   "metadata": {},
   "source": [
    "- demo_ethn2_v2\tInteger\tRecommended\tPlease choose the group that best represents the child's Hispanic origin or ancestry Elija el grupo que mejor represente el origen o la ascendencia hispana del niño o la niña.\t10 ; 12 ; 13 ; 14 ; 15 ; 18 ; 19 ; 20 ; 40 ; 41 ; 777 ; 999\t10 = Puerto Rican PuertorriqueÃ±o ; 12 = Dominican (Republic) Dominicano ; 13 = Mexican Mexicano ; 14 = Mexican American MÃ©xico-estadounidense ; 15 = Chicano; 18 = Cuban Cubano ; 19 = Cuban American Cubano-estadounidense ; 20 = Central or South American Centroamericano o sudamericano ; 40 = Other Latin American Otro origen latinoamericano ; 41 = Other Hispanic Otro origen hispano ; 777 = Refused to answer Prefiero no responder ; 999 = Don't know No lo sÃ©\n",
    "demo_origin_v2\tInteger\tRecommended\tIn which country was the child born? ¿En qué país nació el/la niño(a)?\t1::198; 777; 999\t"
   ]
  },
  {
   "cell_type": "code",
   "execution_count": 29,
   "id": "e2263544-753e-490d-a82f-247d06c6e8ff",
   "metadata": {},
   "outputs": [],
   "source": [
    "ethnic_group_dict = {10.0 : 'Puerto_Rican',\n",
    "                     12.0 : 'Dominican_Republic', \n",
    "                     13.0 : 'Mexican', \n",
    "                     14.0 : 'Mexican_American', \n",
    "                     15.0 : 'Chicano',\n",
    "                     18.0 : 'Cuban',\n",
    "                     19.0 : 'Cuban_American', \n",
    "                     20.0 : 'Central_or_South_American', \n",
    "                     40.0 : 'Other_Latin_American', \n",
    "                     41.0 : 'Other_Hispanic', \n",
    "                     777.0 : 'Refused_answer', \n",
    "                     999.0 : 'Dont_know'\n",
    "                    }\n",
    "\n",
    "demo['ethnic_group_which'] = demo['demo_ethn2_v2'].replace(ethnic_group_dict)"
   ]
  },
  {
   "cell_type": "code",
   "execution_count": 2,
   "id": "23f648f6-0863-4ec2-a654-2274b5613130",
   "metadata": {},
   "outputs": [
    {
     "ename": "NameError",
     "evalue": "name 'demo' is not defined",
     "output_type": "error",
     "traceback": [
      "\u001b[0;31m---------------------------------------------------------------------------\u001b[0m",
      "\u001b[0;31mNameError\u001b[0m                                 Traceback (most recent call last)",
      "Cell \u001b[0;32mIn[2], line 1\u001b[0m\n\u001b[0;32m----> 1\u001b[0m demo \u001b[38;5;241m=\u001b[39m demo[[\u001b[38;5;124m'\u001b[39m\u001b[38;5;124methnic_group_latino\u001b[39m\u001b[38;5;124m'\u001b[39m,\u001b[38;5;124m'\u001b[39m\u001b[38;5;124methnic_group_which\u001b[39m\u001b[38;5;124m'\u001b[39m] \u001b[38;5;241m+\u001b[39m demo\u001b[38;5;241m.\u001b[39mcolumns[demo\u001b[38;5;241m.\u001b[39mcolumns\u001b[38;5;241m.\u001b[39mstr\u001b[38;5;241m.\u001b[39mcontains(\u001b[38;5;124m'\u001b[39m\u001b[38;5;124mdemo_race\u001b[39m\u001b[38;5;124m'\u001b[39m)]\u001b[38;5;241m.\u001b[39mto_list()]\u001b[38;5;241m.\u001b[39mloc[final\u001b[38;5;241m.\u001b[39mindex]\n\u001b[1;32m      2\u001b[0m demo\n",
      "\u001b[0;31mNameError\u001b[0m: name 'demo' is not defined"
     ]
    }
   ],
   "source": [
    "demo = demo[['ethnic_group_latino','ethnic_group_which'] + demo.columns[demo.columns.str.contains('demo_race')].to_list()].loc[final.index]\n",
    "demo"
   ]
  },
  {
   "cell_type": "code",
   "execution_count": 47,
   "id": "217cce19-8e7a-486b-8341-c167a37dd619",
   "metadata": {},
   "outputs": [],
   "source": [
    "grab_q = ['sex_x','interview_age_bl','interview_age_y1','cbcl_scr_syn_anxdep_r_bl','cbcl_scr_syn_anxdep_r_y1','cbcl_scr_syn_anxdep_t_bl','cbcl_scr_syn_anxdep_t_y1','scanner_manufacturer', 'scanner_model','meanFDj','site',]\n",
    "\n",
    "final = pd.merge(used[grab_q], demo, on='participant_id')"
   ]
  },
  {
   "cell_type": "code",
   "execution_count": 48,
   "id": "2028f40b-3ea7-42ab-ae77-9bcde9a8aa36",
   "metadata": {},
   "outputs": [
    {
     "data": {
      "text/plain": [
       "sex_x                                                 0\n",
       "interview_age_bl                                      0\n",
       "interview_age_y1                                      0\n",
       "cbcl_scr_syn_anxdep_r_bl                              0\n",
       "cbcl_scr_syn_anxdep_r_y1                              0\n",
       "cbcl_scr_syn_anxdep_t_bl                              0\n",
       "cbcl_scr_syn_anxdep_t_y1                              0\n",
       "scanner_manufacturer                                  0\n",
       "scanner_model                                         0\n",
       "meanFDj                                               0\n",
       "site                                                  0\n",
       "ethnic_group_latino                                   5\n",
       "ethnic_group_which                                 3117\n",
       "demo_race_a_p___White                                 0\n",
       "demo_race_a_p___Black_African_American                0\n",
       "demo_race_a_p___American_Indian_Native_American       0\n",
       "demo_race_a_p___Alaska_Native                         0\n",
       "demo_race_a_p___Native_Hawaiian                       0\n",
       "demo_race_a_p___Guamanian                             0\n",
       "demo_race_a_p___Samoan                                0\n",
       "demo_race_a_p___Other_Pacific_Islander                0\n",
       "demo_race_a_p___Asian_Indian                          0\n",
       "demo_race_a_p___Chinese                               0\n",
       "demo_race_a_p___Filipino                              0\n",
       "demo_race_a_p___Japanese                              0\n",
       "demo_race_a_p___Korean                                0\n",
       "demo_race_a_p___Vietnamese                            0\n",
       "demo_race_a_p___Other_Asian                           0\n",
       "demo_race_a_p___Other_Race                            0\n",
       "demo_race_a_p___Refuse_Answer                         0\n",
       "demo_race_a_p___Dont_Know                             0\n",
       "demo_race_notes_v2                                 3695\n",
       "demo_race_a_p___0                                     0\n",
       "dtype: int64"
      ]
     },
     "execution_count": 48,
     "metadata": {},
     "output_type": "execute_result"
    }
   ],
   "source": [
    "final.isna().sum()"
   ]
  },
  {
   "cell_type": "markdown",
   "id": "054e1c91-1002-49cf-b82d-a9ed8f35ec81",
   "metadata": {},
   "source": [
    "# Save to file ABCD"
   ]
  },
  {
   "cell_type": "code",
   "execution_count": 49,
   "id": "a29af95d-9b3e-4eb6-b767-4acfd81e100d",
   "metadata": {},
   "outputs": [],
   "source": [
    "final.to_csv(f'{main_dir}/behave_inputs/consort_final_sample_abcd_n{len(final.index)}.csv', sep = ',')"
   ]
  },
  {
   "cell_type": "markdown",
   "id": "69f2e2e4-da3c-43ea-998f-3f49a89b5597",
   "metadata": {},
   "source": [
    "# Double check\n",
    "these are the ids that the CPM scripts used. double checking that the final set used by CPM and final set generated by applying exclusion criteria (but starting from original ABCD data) match"
   ]
  },
  {
   "cell_type": "code",
   "execution_count": 34,
   "id": "f5306aea-7c06-47e7-acc3-4c1322c9e6e1",
   "metadata": {},
   "outputs": [],
   "source": [
    "cpm = pd.read_csv(f'{main_dir}/cpm/abcd_dcan/10min/outputs/cbcl_scr_syn_anxdep_t_y1_gordon352_2fold_pearson_partialcovar_cbcl_scr_syn_anxdep_t_blmeanFDjsex_xinterview_age_bl_p0.001_FD0.25_allsubjs/data_used.csv')\n",
    "cpm = cpm.set_index('participant_id')"
   ]
  },
  {
   "cell_type": "code",
   "execution_count": 35,
   "id": "322684f1-a097-4e9f-b5bb-1b3e93a2606d",
   "metadata": {},
   "outputs": [
    {
     "name": "stdout",
     "output_type": "stream",
     "text": [
      "included = 3718\n",
      "excluded = 2237\n"
     ]
    }
   ],
   "source": [
    "inc = cpm[cpm['excluded'] == 0].index.to_list() # included \n",
    "exc = cpm[cpm['excluded'] == 1].index.to_list() # excluded #.dropna(how='any')\n",
    "print(f'included = {len(inc)}')\n",
    "print(f'excluded = {len(exc)}')"
   ]
  },
  {
   "cell_type": "code",
   "execution_count": 36,
   "id": "820058a7-db6c-411f-b369-5f787c8be744",
   "metadata": {},
   "outputs": [
    {
     "name": "stdout",
     "output_type": "stream",
     "text": [
      "Unique to list1: []\n",
      "Unique to list2: []\n",
      "All different elements: []\n"
     ]
    }
   ],
   "source": [
    "list1 = final.index.to_list()\n",
    "list2 = inc\n",
    "\n",
    "# Elements unique to list1\n",
    "unique_to_list1 = list(set(list1) - set(list2))\n",
    "\n",
    "# Elements unique to list2\n",
    "unique_to_list2 = list(set(list2) - set(list1))\n",
    "\n",
    "# All elements that are different between the two lists\n",
    "different_elements = list(set(list1).symmetric_difference(set(list2)))\n",
    "\n",
    "print(\"Unique to list1:\", unique_to_list1)\n",
    "print(\"Unique to list2:\", unique_to_list2)\n",
    "print(\"All different elements:\", different_elements)"
   ]
  },
  {
   "cell_type": "markdown",
   "id": "9e0b23b8-8843-4e4f-a87c-bc76917c66d9",
   "metadata": {},
   "source": [
    "# BANDA"
   ]
  },
  {
   "cell_type": "code",
   "execution_count": 3,
   "id": "3bd38bd3-cd70-4ca5-9aac-226820f76a4e",
   "metadata": {},
   "outputs": [
    {
     "ename": "NameError",
     "evalue": "name 'pd' is not defined",
     "output_type": "error",
     "traceback": [
      "\u001b[0;31m---------------------------------------------------------------------------\u001b[0m",
      "\u001b[0;31mNameError\u001b[0m                                 Traceback (most recent call last)",
      "Cell \u001b[0;32mIn[3], line 1\u001b[0m\n\u001b[0;32m----> 1\u001b[0m beh \u001b[38;5;241m=\u001b[39m pd\u001b[38;5;241m.\u001b[39mread_csv(\u001b[38;5;124mf\u001b[39m\u001b[38;5;124m'\u001b[39m\u001b[38;5;132;01m{\u001b[39;00mmain_dir\u001b[38;5;132;01m}\u001b[39;00m\u001b[38;5;124m/behave_inputs/banda/banda_allsubjs_washu.csv\u001b[39m\u001b[38;5;124m'\u001b[39m, sep \u001b[38;5;241m=\u001b[39m \u001b[38;5;124m\"\u001b[39m\u001b[38;5;124m,\u001b[39m\u001b[38;5;124m\"\u001b[39m)\n\u001b[1;32m      2\u001b[0m beh[\u001b[38;5;124m'\u001b[39m\u001b[38;5;124mparticipant_id\u001b[39m\u001b[38;5;124m'\u001b[39m] \u001b[38;5;241m=\u001b[39m beh[\u001b[38;5;124m'\u001b[39m\u001b[38;5;124msrc_subject_id\u001b[39m\u001b[38;5;124m'\u001b[39m]\n\u001b[1;32m      3\u001b[0m merge_cols \u001b[38;5;241m=\u001b[39m [\u001b[38;5;124m'\u001b[39m\u001b[38;5;124mparticipant_id\u001b[39m\u001b[38;5;124m'\u001b[39m,\u001b[38;5;124m'\u001b[39m\u001b[38;5;124msubjectkey\u001b[39m\u001b[38;5;124m'\u001b[39m,\u001b[38;5;124m'\u001b[39m\u001b[38;5;124msex\u001b[39m\u001b[38;5;124m'\u001b[39m] \u001b[38;5;66;03m#cols that will be used to merged files\u001b[39;00m\n",
      "\u001b[0;31mNameError\u001b[0m: name 'pd' is not defined"
     ]
    }
   ],
   "source": [
    "beh = pd.read_csv(f'{main_dir}/behave_inputs/banda/banda_allsubjs_washu.csv', sep = \",\")\n",
    "beh['participant_id'] = beh['src_subject_id']\n",
    "merge_cols = ['participant_id','subjectkey','sex'] #cols that will be used to merged files\n",
    "beh = beh.set_index(merge_cols)\n",
    "ids = beh.index.to_list()\n",
    "beh"
   ]
  },
  {
   "cell_type": "code",
   "execution_count": 38,
   "id": "0d22a22b-0eed-4203-a900-83c2305152bd",
   "metadata": {},
   "outputs": [
    {
     "data": {
      "text/plain": [
       "202"
      ]
     },
     "execution_count": 38,
     "metadata": {},
     "output_type": "execute_result"
    }
   ],
   "source": [
    "len(beh)"
   ]
  },
  {
   "cell_type": "markdown",
   "id": "8a218bea-3bf2-42f6-b09e-4438086be8ca",
   "metadata": {},
   "source": [
    "rcads"
   ]
  },
  {
   "cell_type": "code",
   "execution_count": 39,
   "id": "c1f929ca-f741-4434-9441-6b0cf9b31c6a",
   "metadata": {},
   "outputs": [
    {
     "name": "stdout",
     "output_type": "stream",
     "text": [
      "200\n"
     ]
    }
   ],
   "source": [
    "#consort rcads baseline\n",
    "newid = beh[beh['rcads01_rcads_tot_t_T1'].notna()].index \n",
    "beh = beh.loc[newid]\n",
    "print(len(beh))"
   ]
  },
  {
   "cell_type": "code",
   "execution_count": 40,
   "id": "775c0012-6cac-4abf-97fa-e62d18126d0e",
   "metadata": {},
   "outputs": [
    {
     "name": "stdout",
     "output_type": "stream",
     "text": [
      "154\n"
     ]
    }
   ],
   "source": [
    "#consort rcads baseline\n",
    "newid = beh[beh['rcads01_rcads_tot_t_T3'].notna()].index \n",
    "beh = beh.loc[newid]\n",
    "print(len(beh))"
   ]
  },
  {
   "cell_type": "code",
   "execution_count": 41,
   "id": "61694e40-ec66-4e6b-8dba-ba259fb8e418",
   "metadata": {},
   "outputs": [
    {
     "data": {
      "text/plain": [
       "46"
      ]
     },
     "execution_count": 41,
     "metadata": {},
     "output_type": "execute_result"
    }
   ],
   "source": [
    "200-154"
   ]
  },
  {
   "cell_type": "markdown",
   "id": "bf98a53f-c7c3-430b-97fa-5f2b2de58132",
   "metadata": {},
   "source": [
    "drop ids"
   ]
  },
  {
   "cell_type": "code",
   "execution_count": 42,
   "id": "bff62b64-f368-4587-b627-fffbdddfb18f",
   "metadata": {},
   "outputs": [
    {
     "data": {
      "text/plain": [
       "150"
      ]
     },
     "execution_count": 42,
     "metadata": {},
     "output_type": "execute_result"
    }
   ],
   "source": [
    "#consort cbcl baseline\n",
    "newid = beh[beh['Movement_RelativeRMS_mean_T1'] < 0.25].index \n",
    "beh = beh.loc[newid]\n",
    "ids = newid.copy().to_list()\n",
    "len(ids)"
   ]
  },
  {
   "cell_type": "code",
   "execution_count": 43,
   "id": "f3f905b9-39e8-4f86-9042-1060721a61dc",
   "metadata": {},
   "outputs": [
    {
     "data": {
      "text/plain": [
       "sex01_T1                          0\n",
       "interview_age_T1                  0\n",
       "interview_age_T3                  0\n",
       "ndar_subject01_race_T1            0\n",
       "ndar_subject01_ethnic_group_T1    0\n",
       "rcads01_rcads_tot_T1              0\n",
       "rcads01_rcads_tot_T3              0\n",
       "rcads01_rcads_tot_t_T1            0\n",
       "rcads01_rcads_tot_t_T3            0\n",
       "Movement_RelativeRMS_mean_T1      0\n",
       "dtype: int64"
      ]
     },
     "execution_count": 43,
     "metadata": {},
     "output_type": "execute_result"
    }
   ],
   "source": [
    "beh[['sex01_T1','interview_age_T1','interview_age_T3','ndar_subject01_race_T1','ndar_subject01_ethnic_group_T1','rcads01_rcads_tot_T1','rcads01_rcads_tot_T3','rcads01_rcads_tot_t_T1','rcads01_rcads_tot_t_T3','Movement_RelativeRMS_mean_T1']].isna().sum()"
   ]
  },
  {
   "cell_type": "markdown",
   "id": "df5654fa-4cba-40de-8d25-23f7c9098283",
   "metadata": {},
   "source": [
    "# Save to file ABCD"
   ]
  },
  {
   "cell_type": "code",
   "execution_count": 46,
   "id": "f9a4bc82-3874-4aae-b992-bcbf34d922cf",
   "metadata": {},
   "outputs": [],
   "source": [
    "beh.to_csv(f'{main_dir}/behave_inputs/consort_final_sample_banda_n{len(beh.index)}.csv', sep = ',')"
   ]
  },
  {
   "cell_type": "code",
   "execution_count": null,
   "id": "b7b9e972-5eb3-4a10-9c1b-2ef94fcd0de4",
   "metadata": {},
   "outputs": [],
   "source": []
  }
 ],
 "metadata": {
  "kernelspec": {
   "display_name": "Python 3 (ipykernel)",
   "language": "python",
   "name": "python3"
  },
  "language_info": {
   "codemirror_mode": {
    "name": "ipython",
    "version": 3
   },
   "file_extension": ".py",
   "mimetype": "text/x-python",
   "name": "python",
   "nbconvert_exporter": "python",
   "pygments_lexer": "ipython3",
   "version": "3.11.9"
  }
 },
 "nbformat": 4,
 "nbformat_minor": 5
}
