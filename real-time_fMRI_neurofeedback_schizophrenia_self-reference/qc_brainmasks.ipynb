{
 "cells": [
  {
   "cell_type": "markdown",
   "id": "8d3aa9ab-d44a-4050-96a0-30c308612f2c",
   "metadata": {},
   "source": [
    "# Set up environment"
   ]
  },
  {
   "cell_type": "code",
   "execution_count": null,
   "id": "390ccf8e-3049-4a9d-bdd3-97e7acd8af22",
   "metadata": {},
   "outputs": [],
   "source": [
    "#conda activate mri\n",
    "import pandas as pd\n",
    "from glob import glob\n",
    "from nilearn import plotting\n",
    "import re"
   ]
  },
  {
   "cell_type": "markdown",
   "id": "92fa4d71-2af3-4340-a0b9-dec46639d4df",
   "metadata": {},
   "source": [
    "## Users inputs"
   ]
  },
  {
   "cell_type": "code",
   "execution_count": null,
   "id": "1a87f923-30aa-400e-ae03-c82f50171cff",
   "metadata": {},
   "outputs": [],
   "source": [
    "main_proj = '/work/swglab/data/R61rtsz/analysis/proj_franci_selfref/analysis_task_selfref'\n",
    "deriv_d = f'{main_proj}/run_level/'\n",
    "list_include_file = f'{main_proj}/subjects_lists/include_participants.txt'\n",
    "list_ids = pd.read_csv(list_include_file, names=['participant_id']).to_list()"
   ]
  },
  {
   "cell_type": "code",
   "execution_count": null,
   "id": "425e37de-f581-425b-ae02-47c9c95f08b8",
   "metadata": {},
   "outputs": [],
   "source": [
    "ses = 'localizer' # [localizer, real, sham, ...]"
   ]
  },
  {
   "cell_type": "markdown",
   "id": "779edcd4-ed85-4b14-a2db-fef73cf1a935",
   "metadata": {},
   "source": [
    "# Run-level brainmasks (first-level)"
   ]
  },
  {
   "cell_type": "code",
   "execution_count": null,
   "id": "00cd117d-d7e7-4cac-a81a-3dcb8cbd7e27",
   "metadata": {},
   "outputs": [],
   "source": [
    "runmasks = sorted(glob(f'{deriv_d}/*{ses}*/mask.nii.gz'))\n",
    "len(runmasks)"
   ]
  },
  {
   "cell_type": "code",
   "execution_count": null,
   "id": "64add60f-69a4-4c73-85c6-c3347d2a785c",
   "metadata": {},
   "outputs": [],
   "source": [
    "for mask in runmasks:   \n",
    "    mytitle=re.sub(f'{deriv_d}/', '', mask)\n",
    "    plotting.plot_roi(mask, title =mytitle)"
   ]
  },
  {
   "cell_type": "markdown",
   "id": "3f0c1aca-ba88-4888-93bf-5a56358e6a79",
   "metadata": {},
   "source": [
    "# Subject-level brainmasks (second-level)"
   ]
  },
  {
   "cell_type": "code",
   "execution_count": null,
   "id": "a13bfc18-6c5e-4591-b8ba-28cc064ae424",
   "metadata": {},
   "outputs": [],
   "source": [
    "subjmasks = sorted(glob(f'{deriv_d}/*{ses}*/mask.nii.gz'))\n",
    "\n",
    "# grab for participants with complete data\n",
    "subjmasks = [file for file in subjmasks for grabid in list_ids if grabid in file]"
   ]
  },
  {
   "cell_type": "code",
   "execution_count": null,
   "id": "8002549d-f0f7-4586-980a-6d5c91002027",
   "metadata": {},
   "outputs": [],
   "source": [
    "for mask in subjmasks:   \n",
    "    mytitle=re.sub(f'{deriv_d}/', '', mask)\n",
    "    plotting.plot_roi(mask, title =mytitle)"
   ]
  }
 ],
 "metadata": {
  "kernelspec": {
   "display_name": "Python 3 (ipykernel)",
   "language": "python",
   "name": "python3"
  },
  "language_info": {
   "codemirror_mode": {
    "name": "ipython",
    "version": 3
   },
   "file_extension": ".py",
   "mimetype": "text/x-python",
   "name": "python",
   "nbconvert_exporter": "python",
   "pygments_lexer": "ipython3",
   "version": "3.11.9"
  }
 },
 "nbformat": 4,
 "nbformat_minor": 5
}
